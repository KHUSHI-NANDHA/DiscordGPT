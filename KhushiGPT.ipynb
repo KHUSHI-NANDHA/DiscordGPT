{
 "cells": [
  {
   "cell_type": "code",
   "execution_count": null,
   "metadata": {
    "colab": {
     "base_uri": "https://localhost:8080/"
    },
    "collapsed": true,
    "executionInfo": {
     "elapsed": 11164,
     "status": "ok",
     "timestamp": 1752078877063,
     "user": {
      "displayName": "Khushi Nandha",
      "userId": "06324904676721514340"
     },
     "user_tz": -330
    },
    "id": "61xZXlA1BEXP",
    "outputId": "da05179d-10fb-48bf-c8f0-0706ad51f87d"
   },
   "outputs": [],
   "source": [
    "!pip install discord.py google-generativeai nest_asyncio\n",
    "import nest_asyncio\n",
    "nest_asyncio.apply()"
   ]
  },
  {
   "cell_type": "code",
   "execution_count": 8,
   "metadata": {
    "executionInfo": {
     "elapsed": 1368,
     "status": "ok",
     "timestamp": 1752079187356,
     "user": {
      "displayName": "Khushi Nandha",
      "userId": "06324904676721514340"
     },
     "user_tz": -330
    },
    "id": "CYqwdMPvCmvu"
   },
   "outputs": [],
   "source": [
    "import os\n",
    "from google.colab import userdata\n",
    "\n",
    "discord_token = userdata.get(\"DISCORD_BOT_TOKEN\")\n",
    "gemini_key = userdata.get(\"GOOGLE_API_KEY\")"
   ]
  },
  {
   "cell_type": "markdown",
   "metadata": {
    "id": "GogAO9ETC-gr"
   },
   "source": [
    "THE BOT CODE :"
   ]
  },
  {
   "cell_type": "code",
   "execution_count": null,
   "metadata": {
    "colab": {
     "background_save": true,
     "base_uri": "https://localhost:8080/",
     "height": 1000
    },
    "collapsed": true,
    "id": "OJJ-HLjlDBKj"
   },
   "outputs": [],
   "source": [
    "import discord\n",
    "import google.generativeai as genai\n",
    "\n",
    "# Configure Gemini\n",
    "genai.configure(api_key=gemini_key)\n",
    "model = genai.GenerativeModel('gemini-2.5-flash')\n",
    "\n",
    "class MyClient(discord.Client):\n",
    "    async def on_ready(self):\n",
    "        print(f'✅ Logged on as {self.user}')\n",
    "\n",
    "    async def on_message(self, message):\n",
    "        if message.author == self.user:\n",
    "            return\n",
    "\n",
    "        print(f'📩 Message from {message.author}: {message.content}')\n",
    "\n",
    "        try:\n",
    "            response = model.generate_content(message.content)\n",
    "            answer = response.text.strip()\n",
    "            print(f\"💡 Gemini response: {answer}\")\n",
    "\n",
    "            # Check message length\n",
    "            if len(answer) <= 2000:\n",
    "                await message.channel.send(answer)\n",
    "            else:\n",
    "                # Split into chunks of ≤2000\n",
    "                for i in range(0, len(answer), 2000):\n",
    "                    chunk = answer[i:i+2000]\n",
    "                    await message.channel.send(chunk)\n",
    "\n",
    "            print(\"✅ Successfully sent reply!\")\n",
    "        except Exception as e:\n",
    "            print(f\"⚠️ Failed to send message: {e}\")\n",
    "\n",
    "intents = discord.Intents.default()\n",
    "intents.message_content = True\n",
    "\n",
    "client = MyClient(intents=intents)\n",
    "client.run(discord_token)\n"
   ]
  }
 ],
 "metadata": {
  "colab": {
   "authorship_tag": "ABX9TyNTUrImiMp5rarE7iGOgIsh",
   "name": "",
   "version": ""
  },
  "kernelspec": {
   "display_name": "Python 3",
   "name": "python3"
  },
  "language_info": {
   "name": "python"
  }
 },
 "nbformat": 4,
 "nbformat_minor": 0
}
